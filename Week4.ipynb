{
 "cells": [
  {
   "cell_type": "code",
   "execution_count": 9,
   "metadata": {},
   "outputs": [
    {
     "name": "stdout",
     "output_type": "stream",
     "text": [
      "3 4 ['TGACGTTC', 'TAAGAGTT', 'GGACGAAA', 'CTGTTCGC']\n",
      "['TGA', 'TAA', 'GGA', 'TGT']\n",
      "TGA\n",
      "TAA\n",
      "GGA\n",
      "TGT\n"
     ]
    }
   ],
   "source": [
    "import collections\n",
    "import functools\n",
    "import itertools\n",
    "import random\n",
    "import sys\n",
    "\n",
    "SYMBOL2NUMBER = {'A': 0, 'C': 1, 'G': 2, 'T': 3}\n",
    "\n",
    "def find_profile_most_probable_k_mer(text, profile):\n",
    "    k = len(profile[0])\n",
    "    max_prob = -1\n",
    "    for i in range(len(text) - k + 1):\n",
    "        k_mer = text[i:i + k]\n",
    "        prob = functools.reduce(lambda x, y: x * y, itertools.starmap(lambda index, symbol: profile[SYMBOL2NUMBER[symbol]][index], enumerate(k_mer)))\n",
    "        if prob > max_prob:\n",
    "            max_prob = prob\n",
    "            most_probable_k_mer = k_mer\n",
    "    return most_probable_k_mer\n",
    "\n",
    "def build_motifs(profile, dna):\n",
    "    return [find_profile_most_probable_k_mer(dna[i], profile) for i in range(len(dna))]\n",
    "\n",
    "def compute_score(motifs):\n",
    "    return sum(map(lambda column: len(motifs) - collections.Counter(column).most_common(1)[0][1], zip(*motifs)))\n",
    "\n",
    "def build_profile_with_pseudocounts(motifs):\n",
    "    k = len(motifs[0])\n",
    "    t = len(motifs)\n",
    "    columns = list(zip(*motifs))\n",
    "    \n",
    "    profile = [[1 / (t + 4)] * k for _ in range(4)]\n",
    "    for i in range(k):\n",
    "        for symbol, count in collections.Counter(collections.Counter(columns[i])).most_common():\n",
    "            profile[SYMBOL2NUMBER[symbol]][i] = (count + 1) / (t + 4)\n",
    "    return profile\n",
    "\n",
    "def randomized_motif_search(dna, k, t):\n",
    "    motifs = ['TGA', 'GTT', 'GAA', 'TGT']\n",
    "    #for i in range(t):\n",
    "    #    begin = random.randrange(len(dna[i]) - k + 1)\n",
    "    #    motifs.append(dna[i][begin:begin + k])\n",
    "    profile = build_profile_with_pseudocounts(motifs)\n",
    "    motifs = build_motifs(profile, dna)\n",
    "    print(motifs)\n",
    "    min_score = compute_score(motifs)\n",
    "    best_motifs = motifs\n",
    "    while True:\n",
    "        profile = build_profile_with_pseudocounts(motifs)\n",
    "        motifs = build_motifs(profile, dna)\n",
    "        score = compute_score(motifs)\n",
    "        if score < min_score:\n",
    "            min_score = score\n",
    "            best_motifs = motifs\n",
    "        else:\n",
    "            return min_score, best_motifs\n",
    "\n",
    "k = 3\n",
    "t = 4\n",
    "dna = ['TGACGTTC', 'TAAGAGTT', 'GGACGAAA', 'CTGTTCGC']\n",
    "#k, t = map(int, input().split())\n",
    "#dna = [input() for _ in range(t)]\n",
    "\n",
    "print(k,t,dna)\n",
    "min_score = sys.maxsize\n",
    "best_motifs = None\n",
    "for _ in range(1):\n",
    "    score, motifs = randomized_motif_search(dna, k, t)\n",
    "    if score < min_score:\n",
    "        min_score = score\n",
    "        best_motifs = motifs\n",
    "\n",
    "    print(*best_motifs, sep='\\n')"
   ]
  },
  {
   "cell_type": "code",
   "execution_count": null,
   "metadata": {},
   "outputs": [],
   "source": [
    "f = open(input())\n",
    "data = [item.strip() for item in f.readlines()]\n",
    "k,t = map(int,data[0].split(' '))\n",
    "f.close()\n",
    "\n",
    "print(data)\n",
    "dna = data[1:]"
   ]
  },
  {
   "cell_type": "code",
   "execution_count": null,
   "metadata": {},
   "outputs": [],
   "source": []
  },
  {
   "cell_type": "code",
   "execution_count": null,
   "metadata": {},
   "outputs": [],
   "source": []
  },
  {
   "cell_type": "code",
   "execution_count": 4,
   "metadata": {},
   "outputs": [
    {
     "ename": "TypeError",
     "evalue": "RandomMotifs_Quizz() takes 0 positional arguments but 3 were given",
     "output_type": "error",
     "traceback": [
      "\u001b[1;31m---------------------------------------------------------------------------\u001b[0m",
      "\u001b[1;31mTypeError\u001b[0m                                 Traceback (most recent call last)",
      "\u001b[1;32m<ipython-input-4-2a20c984a74d>\u001b[0m in \u001b[0;36m<module>\u001b[1;34m\u001b[0m\n\u001b[0;32m     38\u001b[0m \u001b[0mk\u001b[0m \u001b[1;33m=\u001b[0m \u001b[1;36m3\u001b[0m\u001b[1;33m\u001b[0m\u001b[1;33m\u001b[0m\u001b[0m\n\u001b[0;32m     39\u001b[0m \u001b[0mt\u001b[0m \u001b[1;33m=\u001b[0m \u001b[1;36m4\u001b[0m\u001b[1;33m\u001b[0m\u001b[1;33m\u001b[0m\u001b[0m\n\u001b[1;32m---> 40\u001b[1;33m \u001b[0mRandomizedMotifSearch_Quizz\u001b[0m\u001b[1;33m(\u001b[0m\u001b[0mDna\u001b[0m\u001b[1;33m,\u001b[0m \u001b[0mk\u001b[0m\u001b[1;33m,\u001b[0m \u001b[0mt\u001b[0m\u001b[1;33m)\u001b[0m\u001b[1;33m\u001b[0m\u001b[1;33m\u001b[0m\u001b[0m\n\u001b[0m",
      "\u001b[1;32m<ipython-input-4-2a20c984a74d>\u001b[0m in \u001b[0;36mRandomizedMotifSearch_Quizz\u001b[1;34m(Dna, k, t)\u001b[0m\n\u001b[0;32m     16\u001b[0m     \u001b[1;31m# insert your code here\u001b[0m\u001b[1;33m\u001b[0m\u001b[1;33m\u001b[0m\u001b[1;33m\u001b[0m\u001b[0m\n\u001b[0;32m     17\u001b[0m \u001b[1;33m\u001b[0m\u001b[0m\n\u001b[1;32m---> 18\u001b[1;33m     \u001b[0mM\u001b[0m \u001b[1;33m=\u001b[0m \u001b[0mRandomMotifs_Quizz\u001b[0m\u001b[1;33m(\u001b[0m\u001b[0mDna\u001b[0m\u001b[1;33m,\u001b[0m \u001b[0mk\u001b[0m\u001b[1;33m,\u001b[0m \u001b[0mt\u001b[0m\u001b[1;33m)\u001b[0m\u001b[1;33m\u001b[0m\u001b[1;33m\u001b[0m\u001b[0m\n\u001b[0m\u001b[0;32m     19\u001b[0m     \u001b[0mBestMotifs\u001b[0m \u001b[1;33m=\u001b[0m \u001b[0mM\u001b[0m\u001b[1;33m\u001b[0m\u001b[1;33m\u001b[0m\u001b[0m\n\u001b[0;32m     20\u001b[0m \u001b[1;33m\u001b[0m\u001b[0m\n",
      "\u001b[1;31mTypeError\u001b[0m: RandomMotifs_Quizz() takes 0 positional arguments but 3 were given"
     ]
    }
   ],
   "source": [
    "import random\n",
    "import sys\n",
    "\n",
    "def RandomMotifs_Quizz():\n",
    "    # place your code here.\n",
    "    randomMotifs = []\n",
    " \n",
    "    randomMotifs.append(\"CCA\")\n",
    "    randomMotifs.append(\"CCT\")\n",
    "    randomMotifs.append(\"CTT\")\n",
    "    randomMotifs.append(\"TTG\")\n",
    " \n",
    "    return randomMotifs\n",
    " \n",
    "def RandomizedMotifSearch_Quizz(Dna, k, t):\n",
    "    # insert your code here\n",
    " \n",
    "    M = RandomMotifs_Quizz(Dna, k, t)\n",
    "    BestMotifs = M\n",
    " \n",
    "    Profile = ProfileWithPseudocounts(M)\n",
    "    M = Motifs(Profile, Dna)\n",
    "    print (M)\n",
    " \n",
    "    print (Score(M))\n",
    "    print (Score(BestMotifs))\n",
    " \n",
    "    return\n",
    " \n",
    "# 3. Assume we are given the following strings Dna:\n",
    "DNA1 = \"AAGCCAAA\"\n",
    "DNA2 = \"AATCCTGG\"\n",
    "DNA3 = \"GCTACTTG\"\n",
    "DNA4 = \"ATGTTTTG\"\n",
    " \n",
    "Dna = [ DNA1, DNA2, DNA3, DNA4 ]\n",
    " \n",
    "k = 3\n",
    "t = 4\n",
    "RandomizedMotifSearch_Quizz(Dna, k, t)"
   ]
  },
  {
   "cell_type": "code",
   "execution_count": null,
   "metadata": {},
   "outputs": [],
   "source": []
  }
 ],
 "metadata": {
  "kernelspec": {
   "display_name": "Python 3",
   "language": "python",
   "name": "python3"
  },
  "language_info": {
   "codemirror_mode": {
    "name": "ipython",
    "version": 3
   },
   "file_extension": ".py",
   "mimetype": "text/x-python",
   "name": "python",
   "nbconvert_exporter": "python",
   "pygments_lexer": "ipython3",
   "version": "3.7.1"
  }
 },
 "nbformat": 4,
 "nbformat_minor": 4
}
